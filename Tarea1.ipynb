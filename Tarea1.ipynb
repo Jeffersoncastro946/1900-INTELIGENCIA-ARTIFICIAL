{
  "nbformat": 4,
  "nbformat_minor": 0,
  "metadata": {
    "colab": {
      "provenance": []
    },
    "kernelspec": {
      "name": "python3",
      "display_name": "Python 3"
    },
    "language_info": {
      "name": "python"
    }
  },
  "cells": [
    {
      "cell_type": "markdown",
      "source": [
        "📘  Ejercicio 1: Calcular el número mayor de una lista sin usar\n",
        "max\n",
        " Cree un programa que reciba una lista de números y devuelva el número mayor sin usar la función\n",
        " max()\n",
        " .\n",
        " # Entrada: [3, 9, 4, 1, 15]\n",
        " # Salida esperada: 15"
      ],
      "metadata": {
        "id": "S0oOQC0ORpy3"
      }
    },
    {
      "cell_type": "code",
      "execution_count": null,
      "metadata": {
        "colab": {
          "base_uri": "https://localhost:8080/"
        },
        "id": "iq3L4o7oRmK_",
        "outputId": "619827cd-b112-43ed-9d10-57e4963bd780"
      },
      "outputs": [
        {
          "output_type": "stream",
          "name": "stdout",
          "text": [
            "55\n"
          ]
        }
      ],
      "source": [
        "entrada =[3,20,8,1,55]\n",
        "i=0\n",
        "numeroMayor=0\n",
        "while i<len(entrada):\n",
        "  if(numeroMayor<entrada[i]):\n",
        "    numeroMayor=entrada[i]\n",
        "\n",
        "  i+=1\n",
        "\n",
        "print(numeroMayor)\n"
      ]
    },
    {
      "cell_type": "markdown",
      "source": [
        "📘  Ejercicio 2: Escriba un programa que solicite un número al usuario y\n",
        " muestre la tabla de multiplicar del 1 al 10 de ese número.\n",
        "\n",
        "  #### Entrada: 3\n",
        "  Salida esperada:\n",
        "*  3 x 1 = 3\n",
        "* 3 x 2 = 6\n",
        "*  ...\n",
        "* 3 x 10 = 30"
      ],
      "metadata": {
        "id": "X5s5Y2K3UoTU"
      }
    },
    {
      "cell_type": "code",
      "source": [
        "numero = int(input(\"Ingresa numero\"))\n",
        "\n",
        "for i in range (0,11):\n",
        "  print(f\"{numero} x {i} = {numero*i}\")"
      ],
      "metadata": {
        "colab": {
          "base_uri": "https://localhost:8080/"
        },
        "id": "96DfQjfqbj2G",
        "outputId": "e5f864a1-1284-459d-8165-1f90198bfd42"
      },
      "execution_count": 4,
      "outputs": [
        {
          "output_type": "stream",
          "name": "stdout",
          "text": [
            "Ingresa numero5\n",
            "5 x 0 = 0\n",
            "5 x 1 = 5\n",
            "5 x 2 = 10\n",
            "5 x 3 = 15\n",
            "5 x 4 = 20\n",
            "5 x 5 = 25\n",
            "5 x 6 = 30\n",
            "5 x 7 = 35\n",
            "5 x 8 = 40\n",
            "5 x 9 = 45\n",
            "5 x 10 = 50\n"
          ]
        }
      ]
    },
    {
      "cell_type": "markdown",
      "source": [
        "📘 Ejercicio 3: Cree un programa que elimine los elementos repetidos de una\n",
        " lista y devuelva una nueva lista con elementos únicos ordenados."
      ],
      "metadata": {
        "id": "9hqi6XaOdWiI"
      }
    },
    {
      "cell_type": "code",
      "source": [
        "lista = [5, 8, 3, 5, 2, 8, 9, 1, 3, 4, 5, 9, 7, 2, 6, 8]\n",
        "miListaSinDuplicados=[]\n",
        "vistos=set()\n",
        "\n",
        "for numero in lista:\n",
        "  if miListaSinDuplicados not in vistos:\n",
        "    miListaSinDuplicados.append(numero)\n",
        "    vistos.add(numero)\n",
        "\n",
        "print(miListaSinDuplicados)\n"
      ],
      "metadata": {
        "id": "8dPhEAXhdi0D"
      },
      "execution_count": null,
      "outputs": []
    },
    {
      "cell_type": "markdown",
      "source": [
        "📘  Ejercicio 4: Escriba un programa que solicite ingresar el nombre de varios\n",
        " estudiantes y su nota, y lo almacene en un diccionario. Al final, muestra los\n",
        " datos almacenados."
      ],
      "metadata": {
        "id": "7E7CDfoOgnim"
      }
    },
    {
      "cell_type": "code",
      "source": [
        "dicionario={}\n",
        "bandera=True\n",
        "\n",
        "while bandera:\n",
        "  clave=input(\"Nombre\")\n",
        "  valor=int(input(\"Nota\"))\n",
        "  continuar=input(\"Continuar S / N: \")\n",
        "  dicionario[clave]=valor\n",
        "  if continuar.capitalize()!=\"S\":\n",
        "    bandera=False\n",
        "\n",
        "print(dicionario)\n"
      ],
      "metadata": {
        "colab": {
          "base_uri": "https://localhost:8080/"
        },
        "id": "GlS_uO5egkXG",
        "outputId": "b6b3d8bc-de82-40f0-c74f-168476e5722d"
      },
      "execution_count": 12,
      "outputs": [
        {
          "output_type": "stream",
          "name": "stdout",
          "text": [
            "NombreDC\n",
            "Nota80\n",
            "Continuar S / NS\n",
            "Nombre80\n",
            "Nota90\n",
            "Continuar S / NS\n",
            "NombreSAS\n",
            "Nota80\n",
            "Continuar S / NN\n",
            "{'DC': 80, '80': 90, 'SAS': 80}\n"
          ]
        }
      ]
    },
    {
      "cell_type": "markdown",
      "source": [
        "\n",
        "📘  Ejercicio 5: Sumar ventas por producto\n",
        " Dado el siguiente diccionario:\n",
        "\n",
        " ventas = {\n",
        " 'Producto': ['A', 'B', 'A', 'C', 'B', 'A'],\n",
        " 'Cantidad': [10, 5, 7, 3, 2, 8]\n",
        " }\n",
        " Agrupa las cantidades por producto y muestra la suma total de ventas por cada uno.\n",
        " # Salida esperada:\n",
        " # {'A': 25, 'B': 7, 'C': 3}"
      ],
      "metadata": {
        "id": "5ksV7eBzwn0Q"
      }
    },
    {
      "cell_type": "code",
      "source": [
        "ventas = {\n",
        " 'Producto': ['A', 'B', 'A', 'C', 'B', 'A'],\n",
        " 'Cantidad': [10, 5, 7, 3, 2, 8]\n",
        " }\n",
        "\n",
        "#variable para almacenar ventas\n",
        "ventasTotales={}\n",
        "\n",
        "#  RELACIONAR CADA INDICE DE CADA CLAVE\n",
        "for i in range(len(ventas['Producto'])):\n",
        "  producto=ventas['Producto'][i]\n",
        "  cantidad=ventas['Cantidad'][i]\n",
        "\n",
        "  #validar que el producto ya ente en mi dicionrio caso que no este se agrega\n",
        "  if producto in ventasTotales:\n",
        "    ventasTotales[producto]+=cantidad\n",
        "  else:\n",
        "    ventasTotales[producto]=cantidad\n",
        "\n",
        "print(ventasTotales)"
      ],
      "metadata": {
        "colab": {
          "base_uri": "https://localhost:8080/"
        },
        "id": "P1Cstpe0yXl_",
        "outputId": "3e191e01-35ee-442d-d3d0-cec73a2946c6"
      },
      "execution_count": 16,
      "outputs": [
        {
          "output_type": "stream",
          "name": "stdout",
          "text": [
            "{'A': 25, 'B': 7, 'C': 3}\n"
          ]
        }
      ]
    }
  ]
}